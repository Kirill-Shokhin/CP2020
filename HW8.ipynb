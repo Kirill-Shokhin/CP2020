{
 "cells": [
  {
   "cell_type": "markdown",
   "metadata": {},
   "source": [
    "## Part 1. Gaussian quadrature\n",
    "\n",
    "The Gaussian quadrature method is one of the methods of numerical integration that allows you to increase the accuracy of integration, by using orthogonal polynomials and their roots as nodes.\n",
    "\n",
    "$$\n",
    "\\int_a^b \\!  w(x)\\, f(x)\\, dx \\approx \\sum_{k=1}^n w_k \\, f(x_k) \\;,\n",
    "$$\n",
    "\n",
    "here $\\omega$ is the weight function, this weight function determines the basis of orthogonal polynomials whose roots are used as integration nodes. If the function $f(x)$ is a polynomial, then such an integration method gives *exact* value for the integral."
   ]
  },
  {
   "cell_type": "markdown",
   "metadata": {},
   "source": [
    "For example, let's calculate the following integral:\n",
    "$$\n",
    "\\int_{-1}^1 (7x^3 - 8 x^2 - 3 x + 3) dx  \\label{eq1}\\tag{1}\n",
    "$$\n",
    "\n",
    "Here function is already polynomial, so we put the weight function $\\omega(x) = 1$. Then the calculation of the integral reduces to the sum in the polynomials roots witch corresponding to the weight function $\\omega(x) = 1$. For example, here https://dlmf.nist.gov/18.3 you may see which basis of polynomials corresponds to your weight function.\n",
    "\n",
    "You may see, that Legendre polynomials correspond to our weight function. Now go to the documentation https://docs.scipy.org/doc/scipy/reference/special.html#orthogonal-polynomials. Here, the function *roots_legendre* immediately gives you the roots of the Legendre polynomial and weight at this roots (for Legendre polynomials all these weight are ones).\n"
   ]
  },
  {
   "cell_type": "markdown",
   "metadata": {},
   "source": [
    "### Task 1.1\n",
    "(20% of the grade)"
   ]
  },
  {
   "cell_type": "markdown",
   "metadata": {},
   "source": [
    "1. Calculate the exact value of the integral ([1](#mjx-eqn-eq1)) using a pen and paper (or in your mind). Remember it, then you will compare numerical results with it."
   ]
  },
  {
   "cell_type": "markdown",
   "metadata": {},
   "source": [
    "$\\frac{2}{3}$"
   ]
  },
  {
   "cell_type": "markdown",
   "metadata": {},
   "source": [
    "2. Calculate the value of the integral ([1](#mjx-eqn-eq1)) using the usual method of numerical integration on a uniform grid (for example, implemented by you in week_6_calculus homework). Estimate the number of nodes needed to achieve relative accuracy $10^{-10}$."
   ]
  },
  {
   "cell_type": "code",
   "execution_count": 1,
   "metadata": {},
   "outputs": [
    {
     "data": {
      "text/plain": [
       "(0.6666669037453725, 4744)"
      ]
     },
     "execution_count": 1,
     "metadata": {},
     "output_type": "execute_result"
    }
   ],
   "source": [
    "import numpy as np\n",
    "\n",
    "def midpoint_rule(func, a, b, eps):\n",
    "    I = (b-a)*func((a+b)/2)\n",
    "    N=3\n",
    "    while True:\n",
    "        N+=1\n",
    "        dots = np.linspace(a, b, N)\n",
    "        points = (dots[1:]+dots[:-1])/2\n",
    "        h = dots[1]-dots[0]\n",
    "        I_new = h*np.sum(func(points))\n",
    "        if abs(I_new-I)<eps:\n",
    "            return I_new, N\n",
    "        I = I_new\n",
    "    return I_new\n",
    "    \n",
    "f = np.poly1d([7, -8, -3, 3])\n",
    "midpoint_rule(f, -1, 1, 1e-10)"
   ]
  },
  {
   "cell_type": "markdown",
   "metadata": {},
   "source": [
    "3. Calculate the integral ([1](#mjx-eqn-eq1)) using the roots of the Legendre polynomial from 1 to 6 degrees as nodes (to get roots and weigths use scipy.special.roots_legendre)"
   ]
  },
  {
   "cell_type": "code",
   "execution_count": 2,
   "metadata": {},
   "outputs": [
    {
     "name": "stdout",
     "output_type": "stream",
     "text": [
      "n = 1     Integral = 6.0\n",
      "n = 2     Integral = 0.6666666666666665\n",
      "n = 3     Integral = 0.6666666666666634\n",
      "n = 4     Integral = 0.6666666666666667\n",
      "n = 5     Integral = 0.6666666666666683\n",
      "n = 6     Integral = 0.6666666666666696\n"
     ]
    }
   ],
   "source": [
    "import scipy.special as sp\n",
    "for n in range(1,7):\n",
    "    xx,w = sp.roots_legendre(n)\n",
    "    print(\"n =\",n,\"    Integral =\",sum(w*f(xx)))"
   ]
  },
  {
   "cell_type": "markdown",
   "metadata": {},
   "source": [
    "Compare the number of nodes needed to obtain the same accuracy in both numerical methods."
   ]
  },
  {
   "cell_type": "markdown",
   "metadata": {},
   "source": [
    "Очевидно второй способ лучше, ведь с двух узлов полинома Лежандра мы получили точность, которую и 30 тысячным равномерным разбием не получишь."
   ]
  },
  {
   "cell_type": "markdown",
   "metadata": {},
   "source": [
    "### Task 1.2\n",
    "(20% of the grade)\n",
    "\n",
    "Calculate the value of the same integral, but on the interval from 0 to 10.\n",
    "$$\n",
    "\\int_{0}^{10} (7x^3 - 8 x^2 - 3 x + 3) dx \n",
    "$$\n",
    "\n",
    "Please note that you can no longer directly use Legendre polynomials, because they are defined for the interval (-1,1). But you can always make an *affine transformation* (a transformation that does not change the area) in order to go to the desired coordinate system."
   ]
  },
  {
   "cell_type": "markdown",
   "metadata": {},
   "source": [
    "Точное значение интеграла равно $14713 \\frac{1}{3}$"
   ]
  },
  {
   "cell_type": "markdown",
   "metadata": {},
   "source": [
    "Сделаем замену $x = 10u$, тогда\n",
    "$$\n",
    "10\\int_{0}^{1} (7000 u^3 - 800 u^2 - 30 u + 3) du \n",
    "$$"
   ]
  },
  {
   "cell_type": "code",
   "execution_count": 3,
   "metadata": {},
   "outputs": [
    {
     "name": "stdout",
     "output_type": "stream",
     "text": [
      "n = 1     Integral = 6630.0\n",
      "n = 2     Integral = 14713.333333333334\n",
      "n = 3     Integral = 14713.333333333336\n",
      "n = 4     Integral = 14713.33333333333\n",
      "n = 5     Integral = 14713.333333333332\n",
      "n = 6     Integral = 14713.333333333332\n"
     ]
    }
   ],
   "source": [
    "f_mod = np.poly1d([70000, -8000, -300, 30])\n",
    "for n in range(1,7):\n",
    "    xx,w = sp.roots_sh_legendre(n)\n",
    "    print(\"n =\",n,\"    Integral =\",sum(w*f_mod(xx)))"
   ]
  },
  {
   "cell_type": "markdown",
   "metadata": {},
   "source": [
    "Compare the result with the exact value of the integral."
   ]
  },
  {
   "cell_type": "markdown",
   "metadata": {},
   "source": [
    "И опять видим изумительную точность уже на двух узлах"
   ]
  },
  {
   "cell_type": "markdown",
   "metadata": {},
   "source": [
    "### Task 1.3\n",
    "(20% of the grade)\n",
    "\n",
    "Calculate the value of the following integral:\n",
    "$$\n",
    "\\int_{0}^{2\\pi} \\frac{cos(x) dx }{\\sqrt{4\\pi^2 - x^2}}\n",
    "$$\n",
    "by using the corresponding basis of orthogonal polynomials. \n",
    "Find the degree of the polynomial (number of nodes) at which the accuracy of the integral starts to exceed the double floating point accuracy."
   ]
  },
  {
   "cell_type": "markdown",
   "metadata": {},
   "source": [
    "Сделаем замену $x = 2\\pi v$, тогда\n",
    "$$\n",
    "2 \\pi \\int_{0}^{1} \\frac{cos(2 \\pi v) }{\\sqrt{4\\pi^2 - 4\\pi^2 v^2}} dv = \\frac{1}{2}\\int_{-1}^{1} \\frac{cos(2 \\pi v) }{\\sqrt{1 -  v^2}} dv = \\frac{1}{2} \\pi J_0(2\\pi)\\approx 0.34601\n",
    "$$\n"
   ]
  },
  {
   "cell_type": "code",
   "execution_count": 4,
   "metadata": {},
   "outputs": [
    {
     "name": "stdout",
     "output_type": "stream",
     "text": [
      "n = 1     Integral = 1.5707963267948966\n",
      "n = 2     Integral = -0.4182329132681745\n",
      "n = 3     Integral = 1.2211694475711936\n",
      "n = 4     Integral = 0.11575359323141321\n",
      "n = 5     Integral = 0.37786106634872507\n",
      "n = 6     Integral = 0.34323498164389277\n",
      "n = 7     Integral = 0.34617799427660145\n",
      "n = 8     Integral = 0.3460026676271414\n",
      "n = 9     Integral = 0.34601041637332886\n",
      "n = 10     Integral = 0.3460101517706765\n",
      "n = 11     Integral = 0.3460101589691607\n",
      "n = 12     Integral = 0.3460101588093585\n",
      "n = 13     Integral = 0.3460101588123096\n",
      "n = 14     Integral = 0.3460101588122638\n",
      "n = 15     Integral = 0.34601015881226416\n",
      "n = 16     Integral = 0.3460101588122644\n",
      "n = 17     Integral = 0.3460101588122645\n",
      "n = 18     Integral = 0.34601015881226427\n",
      "n = 19     Integral = 0.34601015881226427\n"
     ]
    }
   ],
   "source": [
    "for n in range(1,20):\n",
    "    xx,w = sp.roots_chebyt(n)\n",
    "    print(\"n =\", n,\"    Integral =\", sum(w*np.cos(2* np.pi*xx)/2))    \n"
   ]
  },
  {
   "cell_type": "markdown",
   "metadata": {},
   "source": [
    "## Part 2. Fredholm equation\n",
    "\n",
    "There are two types of Fredholm equations. \n",
    "\n",
    "1. Fredholm equation of the first kind:\n",
    "$$\n",
    "\\int_a^b \\! K(x, t)\\, \\color{blue}{f(t)} \\,dt = g(x)\n",
    "$$\n",
    "\n",
    "2. Fredholm equation of the second kind:\n",
    "$$\n",
    "\\lambda \\int_a^b\\! K(x, t)\\, \\color{blue}{f(t)} \\, dt + g(x) = \\color{blue}{f(x)}\n",
    "$$\n",
    "\n",
    "Here higtlighted function $f(x)$ is unknown, kernel function $K(x, t)$ and given function $g(x)$, $\\lambda$ is a real number. Numerically, Fredholm equations of the first kind are very ill-conditioned. We will consider equations of the second kind only."
   ]
  },
  {
   "cell_type": "markdown",
   "metadata": {},
   "source": [
    "The basic idea is to approximate the integral by some quadrature formula\n",
    "\n",
    "$$\n",
    "\\int_a^b \\! \\xi(t)\\, dt \\approx \\sum_j^N w_j\\, \\xi(t_j)\n",
    "$$\n",
    "\n",
    "with appropriate weights $w_j$ and nodes $t_j$ and $j=1, \\dots, N$. The accuracy of the approximation is controlled by $N$."
   ]
  },
  {
   "cell_type": "markdown",
   "metadata": {},
   "source": [
    "This way, the FE is approximated by \n",
    "\n",
    "$$\n",
    "\\lambda \\sum_j w_j\\, K(x, t_j)\\, \\color{blue}{f(t_j)} + g(x) = \\color{blue}{f(x)}\n",
    "$$\n",
    "\n",
    "Note that here $x$ is a continuous variable, and we only discretized $t$.\n"
   ]
  },
  {
   "cell_type": "markdown",
   "metadata": {},
   "source": [
    "Evaluating this equation on the grid $x = t_k$, we obtain\n",
    "\n",
    "$$\n",
    "\\lambda \\sum_j w_j \\, K_{k, j}\\, \\color{blue}{f_j} + g_k = \\color{blue}{f_k}\n",
    "$$\n",
    "\n",
    "where $f_j \\equiv f(t_j)$, $g_j \\equiv g(t_j)$ and $K_{k, j} \\equiv K(t_k, t_j)$. This is nothing but a system of linear algebraic equations for the vector of $\\color{blue}{f_j}$.\n",
    "\n",
    "Its solution gives the values of the unknown function $f(x)$ at the discrete values $x=t_j$ for $j=1, \\dots, N$."
   ]
  },
  {
   "cell_type": "markdown",
   "metadata": {},
   "source": [
    "### Task 2.1\n",
    "(20% of the grade)\n",
    "\n",
    "Solve an example Fredholm equation of the second kind\n",
    "\n",
    "$$\n",
    "f(x) = \\sin(\\pi x)  + \\frac{1}{2} \\int_0^1\\! f(t) \\, dt\n",
    "$$\n",
    "\n",
    "Here $a, b = 0, 1$, $\\lambda = \\dfrac{1}{2}$, the kernel is $K(x, t) = 1$ and the right-hand side $g(x) = \\sin(\\pi x)$.\n",
    "\n",
    "In fact, the exact solution is (В. А. Попов, Сборник задач по интегральным уравнениям, 2006, стр. 5)\n",
    "\n",
    "$$\n",
    "f(x) = \\sin(\\pi x) + \\frac{2}{\\pi}\n",
    "$$"
   ]
  },
  {
   "cell_type": "markdown",
   "metadata": {},
   "source": [
    "For the integral, we can use a Gaussian quadrature with the weight function $w(x) = 1$ on $(0, 1)$. Looking at http://dlmf.nist.gov/18.3, and find the corresponding function in *scipy.special* (pay attention to the integration interval).\n",
    "\n",
    "Compare the obtained function values with the true solution for different values of $N$. What value of $N$ can you stop at?"
   ]
  },
  {
   "cell_type": "code",
   "execution_count": 5,
   "metadata": {},
   "outputs": [
    {
     "name": "stdout",
     "output_type": "stream",
     "text": [
      "n = 1  f = 2.0  real = 1.6366197723675815  error = 0.3633802276324185\n",
      "n = 2  f = 2.4647620339182303  real = 2.505620561694278  error = 0.02889134205974216\n",
      "n = 3  f = 3.6046083901798758  real = 3.603282075382677  error = 0.0007657482051929123\n",
      "n = 4  f = 4.700775311399323  real = 4.700795392350633  error = 1.0040475654615744e-05\n",
      "n = 5  f = 5.803005035763186  real = 5.803004860239997  error = 7.849635628988109e-08\n",
      "n = 6  f = 6.907430465574741  real = 6.9074304665730795  error = 4.075698140049807e-10\n",
      "n = 7  f = 8.013101526128477  real = 8.01310152612449  error = 1.5067889628379886e-12\n",
      "n = 8  f = 9.11953769610907  real = 9.119537696109079  error = 3.0384433154848642e-15\n",
      "n = 9  f = 10.226476455409507  real = 10.226476455409507  error = 5.087681048627601e-16\n"
     ]
    }
   ],
   "source": [
    "def f_real(x):\n",
    "    return np.sin(np.pi*x)+2/np.pi\n",
    "\n",
    "def f_pred(n):\n",
    "    xx, w = sp.roots_sh_legendre(n)\n",
    "    f = np.linalg.solve(np.eye(n)-1/2*w, np.sin(np.pi*xx))\n",
    "    return xx, f\n",
    "\n",
    "for n in range(1,10):\n",
    "    xx, f_ = f_pred(n)\n",
    "    err = np.linalg.norm(f_ - f_real(xx))\n",
    "    print(\"n =\",n,\" f =\", sum(f_), \" real =\", sum(f_real(xx)), \" error =\", err)"
   ]
  },
  {
   "cell_type": "markdown",
   "metadata": {},
   "source": [
    "Уже при 9 узлах норма ушла в машинный 0."
   ]
  },
  {
   "cell_type": "markdown",
   "metadata": {},
   "source": [
    "### Task 2.2\n",
    "(20% of the grade)\n",
    "\n",
    "An obvious issue with the privious result for $f(x)$ that it returns the solution on a fixed set of points. We do not control precise positions of these points.\n",
    "\n",
    "1. First, let's try to interpolate the values obtained in the previous task to a uniform grid of length 50. You may use any interpolation method. Compare the interpolation values with exact solution values."
   ]
  },
  {
   "cell_type": "code",
   "execution_count": 6,
   "metadata": {},
   "outputs": [
    {
     "name": "stdout",
     "output_type": "stream",
     "text": [
      "nodes = 5   MSE = 0.015547908395980112\n",
      "nodes = 15   MSE = 5.402721257229785e-05\n",
      "nodes = 25   MSE = 7.227874238040288e-06\n",
      "nodes = 35   MSE = 1.9468076751110263e-06\n",
      "nodes = 45   MSE = 1.0662110427973685e-06\n",
      "nodes = 55   MSE = 3.221340381114847e-07\n",
      "nodes = 65   MSE = 1.6339136788136308e-07\n",
      "nodes = 75   MSE = 9.258539854651957e-08\n",
      "nodes = 85   MSE = 5.824239403361265e-08\n",
      "nodes = 95   MSE = 3.348361779288902e-08\n"
     ]
    },
    {
     "data": {
      "text/plain": [
       "<matplotlib.legend.Legend at 0x9abab68148>"
      ]
     },
     "execution_count": 6,
     "metadata": {},
     "output_type": "execute_result"
    },
    {
     "data": {
      "image/png": "[encoded data removed]",
      "text/plain": [
       "<Figure size 432x288 with 1 Axes>"
      ]
     },
     "metadata": {
      "needs_background": "light"
     },
     "output_type": "display_data"
    }
   ],
   "source": [
    "from scipy.interpolate import CubicSpline\n",
    "import matplotlib.pyplot as plt\n",
    "\n",
    "grid = np.linspace(0, 1, 30)\n",
    "for i in range(5,100,10):\n",
    "    xx, f = f_pred(i)\n",
    "    interp = CubicSpline(xx, f)\n",
    "    print(\"nodes =\", i, \"  MSE =\", np.linalg.norm(f_real(grid) - interp(grid)))\n",
    "    \n",
    "plt.plot(grid, interp(grid), label=\"Interpolation\")\n",
    "plt.plot(grid, f_real(grid), 'o', label=\"Ground Truth\")\n",
    "plt.legend()"
   ]
  },
  {
   "cell_type": "markdown",
   "metadata": {},
   "source": [
    "2. Now use the following formula to calculate the function at points of the same uniform grid.\n",
    "$$\n",
    "f(x) = g(x) + \\lambda \\sum_j^N w_j\\, K(x, t_j)\\, f(t_j)\n",
    "$$\n",
    "Again, compare the interpolation values with the exact solution values, and also with the direct interpolation method."
   ]
  },
  {
   "cell_type": "code",
   "execution_count": 7,
   "metadata": {},
   "outputs": [
    {
     "name": "stdout",
     "output_type": "stream",
     "text": [
      "nodes = 1   MSE = 1.9903154762563777\n",
      "nodes = 2   MSE = 0.11189568664696316\n",
      "nodes = 3   MSE = 0.00242150844259568\n",
      "nodes = 4   MSE = 2.749697502062314e-05\n",
      "nodes = 5   MSE = 1.9227602030763063e-07\n",
      "nodes = 6   MSE = 9.113537083425239e-10\n",
      "nodes = 7   MSE = 3.1196854665844052e-12\n",
      "nodes = 8   MSE = 5.966351342998345e-15\n",
      "nodes = 9   MSE = 7.28021923224409e-16\n"
     ]
    },
    {
     "data": {
      "image/png": "[encoded data removed]",
      "text/plain": [
       "<Figure size 432x288 with 1 Axes>"
      ]
     },
     "metadata": {
      "needs_background": "light"
     },
     "output_type": "display_data"
    },
    {
     "data": {
      "image/png": "[encoded data removed]",
      "text/plain": [
       "<Figure size 432x288 with 1 Axes>"
      ]
     },
     "metadata": {
      "needs_background": "light"
     },
     "output_type": "display_data"
    }
   ],
   "source": [
    "def back_f(x,f):\n",
    "    n = len(f)\n",
    "    _, w = sp.roots_sh_legendre(n)\n",
    "    return np.sin(np.pi*x)+(w @ f /2)\n",
    "\n",
    "for i in range(1,10):\n",
    "    xx, f = f_pred(i)\n",
    "    print(\"nodes =\", i, \"  MSE =\", np.linalg.norm(f_real(grid) - back_f(grid, f)))\n",
    "    \n",
    "plt.plot(grid, abs(back_f(grid, f)- f_real(grid)))\n",
    "plt.ylabel(\"Error of back_interp\")\n",
    "plt.show()\n",
    "plt.plot(grid, abs(back_f(grid, f)- interp(grid)))\n",
    "plt.ylabel(\"|back_interp - interp|\")\n",
    "plt.show()"
   ]
  },
  {
   "cell_type": "markdown",
   "metadata": {},
   "source": [
    "Отчетливо видно, что ошибка обратного метода при равномерной сетке доходит до машинного $0$ уже при 9 узлах, что соответсвует ошибке самой Лежандровской сетки, в то время как прямая интерполяция замено проигрывает и на 100 узлах."
   ]
  }
 ],
 "metadata": {
  "kernelspec": {
   "display_name": "Python 3",
   "language": "python",
   "name": "python3"
  },
  "language_info": {
   "codemirror_mode": {
    "name": "ipython",
    "version": 3
   },
   "file_extension": ".py",
   "mimetype": "text/x-python",
   "name": "python",
   "nbconvert_exporter": "python",
   "pygments_lexer": "ipython3",
   "version": "3.7.7"
  }
 },
 "nbformat": 4,
 "nbformat_minor": 4
}
