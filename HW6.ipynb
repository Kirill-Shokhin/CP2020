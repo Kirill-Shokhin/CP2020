{
 "cells": [
  {
   "cell_type": "markdown",
   "metadata": {},
   "source": [
    "# Part I. One-sided finite differences"
   ]
  },
  {
   "cell_type": "markdown",
   "metadata": {},
   "source": [
    "Write a function, `deriv`, which computes a derivative of its argument at a given point, $x$, using a one-sided finite difference rule with a given step side $h$, with the approximation order of $O(h^2)$. "
   ]
  },
  {
   "cell_type": "code",
   "execution_count": 1,
   "metadata": {},
   "outputs": [],
   "source": [
    "def deriv(f, x, h):\n",
    "    \"\"\" Compute a derivative of `f` at point `x` with step size `h`.\n",
    "    \n",
    "    Compute the derivative using the one-sided rule of the approximation order of $O(h^2)$.\n",
    "    \n",
    "    Parameters\n",
    "    ----------\n",
    "    f : callable\n",
    "        The function to differentiate\n",
    "    x : float\n",
    "        The point to compute the derivative at.\n",
    "    h : float\n",
    "        The step size for the finite different rule.\n",
    "        \n",
    "    Returns\n",
    "    -------\n",
    "    fder : derivative of f(x) at point x using the step size h.\n",
    "    \"\"\"\n",
    "    return (-3/2*f(x)+2*f(x+h)-1/2*f(x+2*h))/h"
   ]
  },
  {
   "cell_type": "markdown",
   "metadata": {},
   "source": [
    "#### Test I.1\n",
    "\n",
    "Test your function on a simple test case: differentiate $f(x) = x^3$ at $x=0$. Comment on whether your results are consistent with the expected value of $f'(x) = 0$ and on an expected scaling with $h\\to 0$.\n",
    "\n",
    " (10% of the total grade)"
   ]
  },
  {
   "cell_type": "code",
   "execution_count": 2,
   "metadata": {},
   "outputs": [
    {
     "name": "stdout",
     "output_type": "stream",
     "text": [
      "0.010000 -- -0.0002\n",
      "0.001000 --  -2e-06\n",
      "0.000100 --  -2e-08\n",
      "0.000010 --  -2e-10\n",
      "0.000001 --  -2e-12\n",
      "0.000000 --  -2e-14\n",
      "0.000000 --  -2e-16\n"
     ]
    }
   ],
   "source": [
    "x = 0\n",
    "for h in [1e-2, 1e-3, 1e-4, 1e-5, 1e-6, 1e-7, 1e-8]:\n",
    "    err = deriv(lambda x: x**3, x, h)\n",
    "    print(\"%5f -- %7.4g\" % (h, err))"
   ]
  },
  {
   "cell_type": "markdown",
   "metadata": {},
   "source": [
    "Отклонение пропорционально квадрату шага как и должно быть"
   ]
  },
  {
   "cell_type": "markdown",
   "metadata": {},
   "source": [
    "### Test I.2\n",
    "\n",
    "Now use a slightly more complicated function, $f(x) = x^2 \\log{x}$, evaluate the derivative at $x=1$ using your one-sided rule and a two-point one-sided rule. Roughly estimate the value of $h$ where the error stops decreasing, for these two schemes. \n",
    "(15% of the total grade)"
   ]
  },
  {
   "cell_type": "code",
   "execution_count": 3,
   "metadata": {},
   "outputs": [],
   "source": [
    "from math import log\n",
    "\n",
    "def f(x):\n",
    "    return x**2 * log(x)\n",
    "    \n",
    "def fder(x):\n",
    "    return x * (2.*log(x) + 1)\n",
    "\n",
    "def deriv_2p(f, x, h):\n",
    "    return (f(x+h)-f(x))/(h)"
   ]
  },
  {
   "cell_type": "code",
   "execution_count": 4,
   "metadata": {},
   "outputs": [
    {
     "data": {
      "image/png": "[encoded data removed]",
      "text/plain": [
       "<Figure size 432x288 with 1 Axes>"
      ]
     },
     "metadata": {
      "needs_background": "light"
     },
     "output_type": "display_data"
    }
   ],
   "source": [
    "import numpy as np\n",
    "import matplotlib.pyplot as plt\n",
    "h = (pow(0.1, np.arange(2, 16)))\n",
    "err1 = np.zeros(len(h))\n",
    "err2 = np.zeros(len(h))\n",
    "for i in range(len(h)):\n",
    "    err1[i] = (deriv(f, 1, h[i]) - fder(1))**2\n",
    "    err2[i] = (deriv_2p(f, 1, h[i]) - fder(1))**2\n",
    "plt.plot(h, err1, '-o', color='black')\n",
    "plt.plot(h, err2, '-o', color='r')\n",
    "plt.xscale(\"log\")\n",
    "plt.yscale(\"log\")\n",
    "plt.xlabel(\"h\")\n",
    "plt.ylabel(\"MSE\")\n",
    "plt.show()"
   ]
  },
  {
   "cell_type": "markdown",
   "metadata": {},
   "source": [
    "### Test I.3 \n",
    "\n",
    "Now try differentiating $x^2 \\log(x)$ at $x=0$. Use the three-point one-sided rule. Note that to evaluate the function at zero, you need to special-case this value. Check the scaling of the error with $h$, explain your results. \n",
    "(25% of the total grade)"
   ]
  },
  {
   "cell_type": "code",
   "execution_count": 5,
   "metadata": {},
   "outputs": [
    {
     "name": "stdout",
     "output_type": "stream",
     "text": [
      "0.010000 -- -0.01386\n",
      "0.001000 -- -0.001386\n",
      "0.000100 -- -0.0001386\n",
      "0.000010 -- -1.386e-05\n",
      "0.000001 -- -1.386e-06\n",
      "0.000000 -- -1.386e-07\n",
      "0.000000 -- -1.386e-08\n",
      "0.000000 -- -1.386e-09\n",
      "0.000000 -- -1.386e-10\n",
      "0.000000 -- -1.386e-11\n",
      "0.000000 -- -1.386e-12\n",
      "0.000000 -- -1.386e-13\n",
      "0.000000 -- -1.386e-14\n",
      "0.000000 -- -1.386e-15\n"
     ]
    }
   ],
   "source": [
    "def f(x):\n",
    "    if x == 0:\n",
    "        # the limit of $x^2 log(x)$ at $x-> 0$ is zero, even though log(x) is undefined at x=0\n",
    "        return 0.0\n",
    "    else:\n",
    "        return x**2 * log(x)\n",
    "    \n",
    "def fder(x):\n",
    "    if x == 0:\n",
    "        return 0.0\n",
    "    else:\n",
    "        return x*(2*log(x) + 1)\n",
    "    \n",
    "x = 0\n",
    "for i in range(len(h)):\n",
    "    err = deriv(f, x, h[i]) - fder(x)\n",
    "    print(\"%5f -- %7.4g\" % (h[i], err))"
   ]
  },
  {
   "cell_type": "markdown",
   "metadata": {},
   "source": [
    "Теперь ошибка пропорциональна $h$, вместо $h^2$. Это можно объснить вспомнив, что первый остаточный член для нашей формулы определяется ~$h^2f'''$, где $f'''$ ~ $\\frac{1}{x}$, в то время как $f$ и $f''$ зануляются. Тогда понятно, почему $x^3$ так четко отработала, ее третья производная просто константа $=>$ сходимость $h^2$"
   ]
  },
  {
   "cell_type": "markdown",
   "metadata": {},
   "source": [
    "# Part II. Midpoint rule "
   ]
  },
  {
   "cell_type": "markdown",
   "metadata": {},
   "source": [
    "Write a function which computes a definite integral using the midpoint rule up to a given error, $\\epsilon$. Estimate the error by comparing the estimates of the integral at $N$ and $2N$ elementary intervals. "
   ]
  },
  {
   "cell_type": "code",
   "execution_count": 146,
   "metadata": {},
   "outputs": [],
   "source": [
    "def midpoint_rule(func, a, b, eps, double=False):\n",
    "    \"\"\" Calculate the integral of f from a to b using the midpoint rule.\n",
    "    \n",
    "    Parameters\n",
    "    ----------\n",
    "    func : callable\n",
    "        The function to integrate.\n",
    "    a : float\n",
    "        The lower limit of integration.\n",
    "    b : float\n",
    "        The upper limit of integration.\n",
    "    eps : float\n",
    "        The target accuracy of the estimate.\n",
    "        \n",
    "    Returns\n",
    "    -------\n",
    "    integral : float\n",
    "        The estimate of $\\int_a^b f(x) dx$.\n",
    "    \"\"\"\n",
    "    I = (b-a)*func((a+b)/2)\n",
    "    for N in range(5, 100000):\n",
    "        if double == True:\n",
    "            dots = np.linspace(a, b, 2*N)\n",
    "        else:\n",
    "            dots = np.linspace(a, b, N)\n",
    "        points = (dots[1:]+dots[:-1])/2\n",
    "        h = dots[1]-dots[0]\n",
    "        I_new = h*np.sum(func(points))\n",
    "        if abs(I_new-I)<eps:\n",
    "            return I_new, N\n",
    "        I = I_new"
   ]
  },
  {
   "cell_type": "markdown",
   "metadata": {},
   "source": [
    "### Test II.1\n",
    "\n",
    "Test your midpoint rule on a simple integral, which you can calculate by paper and pencil.\n",
    "\n",
    "Compare the rate of convergence to the expected $O(N^{-2})$ scaling by studying the number of intervals required for a given accuracy $\\epsilon$.\n",
    "\n",
    "Compare the numerical results to the value you calculated by hand. Does the deviation agree with your estimate of the numerical error?\n",
    "(20% of the total grade)\n"
   ]
  },
  {
   "cell_type": "markdown",
   "metadata": {},
   "source": [
    "$$\n",
    "\\int_0^3\\! x^2\\, dx = 9\n",
    "$$"
   ]
  },
  {
   "cell_type": "code",
   "execution_count": 191,
   "metadata": {},
   "outputs": [
    {
     "name": "stdout",
     "output_type": "stream",
     "text": [
      "eps: 1e-06\n",
      "Значение интеграла: 8.999918348091159 кол-во разбиений: 167 \n",
      "\n",
      "eps: 1.090909090909091e-06\n",
      "Значение интеграла: 8.999913197793294 кол-во разбиений: 162 \n",
      "\n",
      "eps: 1.1818181818181818e-06\n",
      "Значение интеграла: 8.999908718406424 кол-во разбиений: 158 \n",
      "\n",
      "eps: 1.2727272727272726e-06\n",
      "Значение интеграла: 8.999903883121876 кол-во разбиений: 154 \n",
      "\n",
      "eps: 1.3636363636363636e-06\n",
      "Значение интеграла: 8.9999 кол-во разбиений: 151 \n",
      "\n",
      "eps: 1.4545454545454546e-06\n",
      "Значение интеграла: 8.999895876718032 кол-во разбиений: 148 \n",
      "\n",
      "eps: 1.5454545454545454e-06\n",
      "Значение интеграла: 8.999891493055554 кол-во разбиений: 145 \n",
      "\n",
      "eps: 1.6363636363636363e-06\n",
      "Значение интеграла: 8.999886826618381 кол-во разбиений: 142 \n",
      "\n",
      "eps: 1.7272727272727273e-06\n",
      "Значение интеграла: 8.99988354640029 кол-во разбиений: 140 \n",
      "\n",
      "eps: 1.8181818181818183e-06\n",
      "Значение интеграла: 8.999878352076127 кол-во разбиений: 137 \n",
      "\n",
      "eps: 1.909090909090909e-06\n",
      "Значение интеграла: 8.9998746936957 кол-во разбиений: 135 \n",
      "\n",
      "eps: 2.0000000000000003e-06\n",
      "Значение интеграла: 8.999870867768598 кол-во разбиений: 133 \n",
      "\n",
      "eps: 2.090909090909091e-06\n",
      "Значение интеграла: 8.999866863905329 кол-во разбиений: 131 \n",
      "\n",
      "eps: 2.181818181818182e-06\n",
      "Значение интеграла: 8.999862670898438 кол-во разбиений: 129 \n",
      "\n",
      "eps: 2.2727272727272728e-06\n",
      "Значение интеграла: 8.999860499720999 кол-во разбиений: 128 \n",
      "\n",
      "eps: 2.3636363636363636e-06\n",
      "Значение интеграла: 8.999856000000001 кол-во разбиений: 126 \n",
      "\n",
      "eps: 2.4545454545454544e-06\n",
      "Значение интеграла: 8.999851279000595 кол-во разбиений: 124 \n",
      "\n",
      "eps: 2.545454545454545e-06\n",
      "Значение интеграла: 8.999848830959419 кол-во разбиений: 123 \n",
      "\n",
      "eps: 2.6363636363636364e-06\n",
      "Значение интеграла: 8.999846321972543 кол-во разбиений: 122 \n",
      "\n",
      "eps: 2.7272727272727276e-06\n",
      "Значение интеграла: 8.999841112915755 кол-во разбиений: 120 \n",
      "\n",
      "eps: 2.8181818181818185e-06\n",
      "Значение интеграла: 8.999838408503305 кол-во разбиений: 119 \n",
      "\n",
      "eps: 2.9090909090909093e-06\n",
      "Значение интеграла: 8.999835634451019 кол-во разбиений: 118 \n",
      "\n",
      "eps: 3e-06\n",
      "Значение интеграла: 8.999829867674856 кол-во разбиений: 116 \n",
      "\n",
      "eps: 3.090909090909091e-06\n",
      "Значение интеграла: 8.999826869806093 кол-во разбиений: 115 \n",
      "\n",
      "eps: 3.1818181818181817e-06\n",
      "Значение интеграла: 8.99982379199624 кол-во разбиений: 114 \n",
      "\n",
      "eps: 3.2727272727272725e-06\n",
      "Значение интеграла: 8.99982063137755 кол-во разбиений: 113 \n",
      "\n",
      "eps: 3.3636363636363633e-06\n",
      "Значение интеграла: 8.999817384952523 кол-во разбиений: 112 \n",
      "\n",
      "eps: 3.454545454545455e-06\n",
      "Значение интеграла: 8.999814049586774 кол-во разбиений: 111 \n",
      "\n",
      "eps: 3.5454545454545458e-06\n",
      "Значение интеграла: 8.999810622001515 кол-во разбиений: 110 \n",
      "\n",
      "eps: 3.6363636363636366e-06\n",
      "Значение интеграла: 8.999807098765428 кол-во разбиений: 109 \n",
      "\n",
      "eps: 3.7272727272727274e-06\n",
      "Значение интеграла: 8.999803476286138 кол-во разбиений: 108 \n",
      "\n",
      "eps: 3.818181818181818e-06\n",
      "Значение интеграла: 8.999803476286138 кол-во разбиений: 108 \n",
      "\n",
      "eps: 3.909090909090909e-06\n",
      "Значение интеграла: 8.999799750801 кол-во разбиений: 107 \n",
      "\n",
      "eps: 4e-06\n",
      "Значение интеграла: 8.999795918367345 кол-во разбиений: 106 \n",
      "\n",
      "eps: 4.090909090909091e-06\n",
      "Значение интеграла: 8.999791974852073 кол-во разбиений: 105 \n",
      "\n",
      "eps: 4.181818181818182e-06\n",
      "Значение интеграла: 8.999787915920447 кол-во разбиений: 104 \n",
      "\n",
      "eps: 4.272727272727273e-06\n",
      "Значение интеграла: 8.999787915920447 кол-во разбиений: 104 \n",
      "\n",
      "eps: 4.363636363636364e-06\n",
      "Значение интеграла: 8.999783737024222 кол-во разбиений: 103 \n",
      "\n",
      "eps: 4.454545454545455e-06\n",
      "Значение интеграла: 8.999779433388884 кол-во разбиений: 102 \n",
      "\n",
      "eps: 4.5454545454545455e-06\n",
      "Значение интеграла: 8.999779433388884 кол-во разбиений: 102 \n",
      "\n",
      "eps: 4.636363636363636e-06\n",
      "Значение интеграла: 8.999775000000001 кол-во разбиений: 101 \n",
      "\n",
      "eps: 4.727272727272727e-06\n",
      "Значение интеграла: 8.999770431588615 кол-во разбиений: 100 \n",
      "\n",
      "eps: 4.818181818181818e-06\n",
      "Значение интеграла: 8.999770431588615 кол-во разбиений: 100 \n",
      "\n",
      "eps: 4.909090909090909e-06\n",
      "Значение интеграла: 8.999765722615575 кол-во разбиений: 99 \n",
      "\n",
      "eps: 5e-06\n",
      "Значение интеграла: 8.999765722615575 кол-во разбиений: 99 \n",
      "\n",
      "eps: 5.090909090909091e-06\n",
      "Значение интеграла: 8.999760867254757 кол-во разбиений: 98 \n",
      "\n",
      "eps: 5.181818181818182e-06\n",
      "Значение интеграла: 8.999755859375 кол-во разбиений: 97 \n",
      "\n",
      "eps: 5.272727272727273e-06\n",
      "Значение интеграла: 8.999755859375 кол-во разбиений: 97 \n",
      "\n",
      "eps: 5.363636363636364e-06\n",
      "Значение интеграла: 8.999750692520776 кол-во разбиений: 96 \n",
      "\n",
      "eps: 5.4545454545454545e-06\n",
      "Значение интеграла: 8.999750692520776 кол-во разбиений: 96 \n",
      "\n",
      "eps: 5.545454545454545e-06\n",
      "Значение интеграла: 8.99974535989135 кол-во разбиений: 95 \n",
      "\n",
      "eps: 5.636363636363636e-06\n",
      "Значение интеграла: 8.99974535989135 кол-во разбиений: 95 \n",
      "\n",
      "eps: 5.727272727272727e-06\n",
      "Значение интеграла: 8.999739854318419 кол-во разбиений: 94 \n",
      "\n",
      "eps: 5.8181818181818185e-06\n",
      "Значение интеграла: 8.999739854318419 кол-во разбиений: 94 \n",
      "\n",
      "eps: 5.909090909090909e-06\n",
      "Значение интеграла: 8.999734168241963 кол-во разбиений: 93 \n",
      "\n",
      "eps: 6e-06\n",
      "Значение интеграла: 8.999734168241963 кол-во разбиений: 93 \n",
      "\n",
      "eps: 6.090909090909091e-06\n",
      "Значение интеграла: 8.999728293684338 кол-во разбиений: 92 \n",
      "\n",
      "eps: 6.181818181818182e-06\n",
      "Значение интеграла: 8.999728293684338 кол-во разбиений: 92 \n",
      "\n",
      "eps: 6.272727272727273e-06\n",
      "Значение интеграла: 8.999728293684338 кол-во разбиений: 92 \n",
      "\n",
      "eps: 6.363636363636363e-06\n",
      "Значение интеграла: 8.999722222222223 кол-во разбиений: 91 \n",
      "\n",
      "eps: 6.454545454545455e-06\n",
      "Значение интеграла: 8.999722222222223 кол-во разбиений: 91 \n",
      "\n",
      "eps: 6.545454545454546e-06\n",
      "Значение интеграла: 8.999715944956444 кол-во разбиений: 90 \n",
      "\n",
      "eps: 6.636363636363637e-06\n",
      "Значение интеграла: 8.999715944956444 кол-во разбиений: 90 \n",
      "\n",
      "eps: 6.7272727272727275e-06\n",
      "Значение интеграла: 8.999709452479337 кол-во разбиений: 89 \n",
      "\n",
      "eps: 6.818181818181818e-06\n",
      "Значение интеграла: 8.999709452479337 кол-во разбиений: 89 \n",
      "\n",
      "eps: 6.909090909090909e-06\n",
      "Значение интеграла: 8.999709452479337 кол-во разбиений: 89 \n",
      "\n",
      "eps: 7e-06\n",
      "Значение интеграла: 8.999702734839477 кол-во разбиений: 88 \n",
      "\n",
      "eps: 7.090909090909091e-06\n",
      "Значение интеграла: 8.999702734839477 кол-во разбиений: 88 \n",
      "\n",
      "eps: 7.1818181818181815e-06\n",
      "Значение интеграла: 8.999702734839477 кол-во разбиений: 88 \n",
      "\n",
      "eps: 7.272727272727273e-06\n",
      "Значение интеграла: 8.999695781503515 кол-во разбиений: 87 \n",
      "\n",
      "eps: 7.363636363636364e-06\n",
      "Значение интеграла: 8.999695781503515 кол-во разбиений: 87 \n",
      "\n",
      "eps: 7.454545454545455e-06\n",
      "Значение интеграла: 8.999695781503515 кол-во разбиений: 87 \n",
      "\n",
      "eps: 7.545454545454546e-06\n",
      "Значение интеграла: 8.999688581314878 кол-во разбиений: 86 \n",
      "\n",
      "eps: 7.636363636363636e-06\n",
      "Значение интеграла: 8.999688581314878 кол-во разбиений: 86 \n",
      "\n",
      "eps: 7.727272727272727e-06\n",
      "Значение интеграла: 8.999688581314878 кол-во разбиений: 86 \n",
      "\n",
      "eps: 7.818181818181818e-06\n",
      "Значение интеграла: 8.999681122448978 кол-во разбиений: 85 \n",
      "\n",
      "eps: 7.90909090909091e-06\n",
      "Значение интеграла: 8.999681122448978 кол-во разбиений: 85 \n",
      "\n",
      "eps: 8.000000000000001e-06\n",
      "Значение интеграла: 8.999681122448978 кол-во разбиений: 85 \n",
      "\n",
      "eps: 8.090909090909092e-06\n",
      "Значение интеграла: 8.999673392364638 кол-во разбиений: 84 \n",
      "\n",
      "eps: 8.181818181818183e-06\n",
      "Значение интеграла: 8.999673392364638 кол-во разбиений: 84 \n",
      "\n",
      "eps: 8.272727272727274e-06\n",
      "Значение интеграла: 8.999673392364638 кол-во разбиений: 84 \n",
      "\n",
      "eps: 8.363636363636365e-06\n",
      "Значение интеграла: 8.999665377751338 кол-во разбиений: 83 \n",
      "\n",
      "eps: 8.454545454545455e-06\n",
      "Значение интеграла: 8.999665377751338 кол-во разбиений: 83 \n",
      "\n",
      "eps: 8.545454545454546e-06\n",
      "Значение интеграла: 8.999665377751338 кол-во разбиений: 83 \n",
      "\n",
      "eps: 8.636363636363637e-06\n",
      "Значение интеграла: 8.999657064471878 кол-во разбиений: 82 \n",
      "\n",
      "eps: 8.727272727272728e-06\n",
      "Значение интеграла: 8.999657064471878 кол-во разбиений: 82 \n",
      "\n",
      "eps: 8.818181818181819e-06\n",
      "Значение интеграла: 8.999657064471878 кол-во разбиений: 82 \n",
      "\n",
      "eps: 8.90909090909091e-06\n",
      "Значение интеграла: 8.999657064471878 кол-во разбиений: 82 \n",
      "\n",
      "eps: 9.000000000000002e-06\n",
      "Значение интеграла: 8.999648437499998 кол-во разбиений: 81 \n",
      "\n",
      "eps: 9.090909090909093e-06\n",
      "Значение интеграла: 8.999648437499998 кол-во разбиений: 81 \n",
      "\n",
      "eps: 9.181818181818184e-06\n",
      "Значение интеграла: 8.999648437499998 кол-во разбиений: 81 \n",
      "\n",
      "eps: 9.272727272727274e-06\n",
      "Значение интеграла: 8.999648437499998 кол-во разбиений: 81 \n",
      "\n",
      "eps: 9.363636363636365e-06\n",
      "Значение интеграла: 8.99963948085243 кол-во разбиений: 80 \n",
      "\n",
      "eps: 9.454545454545456e-06\n",
      "Значение интеграла: 8.99963948085243 кол-во разбиений: 80 \n",
      "\n",
      "eps: 9.545454545454547e-06\n",
      "Значение интеграла: 8.99963948085243 кол-во разбиений: 80 \n",
      "\n",
      "eps: 9.636363636363638e-06\n",
      "Значение интеграла: 8.99963948085243 кол-во разбиений: 80 \n",
      "\n",
      "eps: 9.727272727272728e-06\n",
      "Значение интеграла: 8.999630177514794 кол-во разбиений: 79 \n",
      "\n",
      "eps: 9.81818181818182e-06\n",
      "Значение интеграла: 8.999630177514794 кол-во разбиений: 79 \n",
      "\n",
      "eps: 9.90909090909091e-06\n",
      "Значение интеграла: 8.999630177514794 кол-во разбиений: 79 \n",
      "\n",
      "eps: 1e-05\n",
      "Значение интеграла: 8.999630177514794 кол-во разбиений: 79 \n",
      "\n"
     ]
    },
    {
     "data": {
      "image/png": "[encoded data removed]",
      "text/plain": [
       "<Figure size 432x288 with 1 Axes>"
      ]
     },
     "metadata": {
      "needs_background": "light"
     },
     "output_type": "display_data"
    }
   ],
   "source": [
    "# Точный интеграл равен 9. Для наглядности будем работать с самим значением, а не с разностью.\n",
    "epsilon = np.linspace(1e-6, 1e-5, 100)\n",
    "for eps in epsilon:\n",
    "    I, N = midpoint_rule(lambda x: x**2, 0, 3, eps)\n",
    "    print(\"eps:\", eps)\n",
    "    print(\"Значение интеграла:\", I, \"кол-во разбиений:\", N, \"\\n\")\n",
    "    plt.plot(eps, N, 'o', color='b')\n",
    "    I1, N1 = midpoint_rule(lambda x: x**2, 0, 3, eps, double=True)\n",
    "    plt.plot(eps, N1, 'o', color='orange')\n",
    "plt.xlabel(\"eps\")\n",
    "plt.ylabel(\"N - кол-во разбиений\")\n",
    "plt.show()    \n",
    "\n"
   ]
  },
  {
   "cell_type": "markdown",
   "metadata": {},
   "source": [
    "Похоже на правду ($\\frac{1}{N^2}$)"
   ]
  },
  {
   "cell_type": "markdown",
   "metadata": {},
   "source": [
    "### Test II.2\n",
    "\n",
    "Now use your midpoint rule to compute the value of\n",
    "\n",
    "$$\n",
    "\\int_0^1\\! \\frac{\\sin{\\sqrt{x}}}{x}\\, dx\n",
    "$$\n",
    "\n",
    "up to a predefined accuracy of $\\epsilon=10^{-4}$.\n",
    "\n",
    "Note that the integral contains an integrable singularity at the lower limit. Do calculations two ways: first, do a straightforward computation; next, subtract the singularity. Compare the number of iterations required to achieve the accuracy of $\\epsilon$.\n",
    "\n",
    "(30% of the total grade)"
   ]
  },
  {
   "cell_type": "markdown",
   "metadata": {},
   "source": [
    "$$\n",
    "\\int_0^1\\! \\frac{\\sin{\\sqrt{x}}}{x}\\, dx = \\frac{1}{\\sqrt{x}}+\\frac{x^{\\frac{3}{2}}}{6}+\\;...\\;\\;\\;\\Rightarrow \n",
    "$$\n",
    "\n",
    "$$\n",
    "\\Rightarrow \\;\\;\\int_0^1\\! \\frac{\\sin{\\sqrt{x}}}{x}\\, dx\n",
    "= \\int_0^1\\! \\frac{\\sin{\\sqrt{x}}}{x}-\\frac{1}{\\sqrt{x}}\\, dx \n",
    "\\;+\\int_0^1\\! \\frac{1}{\\sqrt{x}}\\, dx \n",
    "$$\n",
    "$$\\int_0^1\\! \\frac{1}{\\sqrt{x}}\\, dx = 2$$"
   ]
  },
  {
   "cell_type": "code",
   "execution_count": 189,
   "metadata": {},
   "outputs": [
    {
     "name": "stderr",
     "output_type": "stream",
     "text": [
      "C:\\Anaconda\\lib\\site-packages\\ipykernel_launcher.py:2: RuntimeWarning: invalid value encountered in true_divide\n",
      "  \n"
     ]
    },
    {
     "data": {
      "text/plain": [
       "<matplotlib.legend.Legend at 0x469dac3688>"
      ]
     },
     "execution_count": 189,
     "metadata": {},
     "output_type": "execute_result"
    },
    {
     "data": {
      "image/png": "[encoded data removed]",
      "text/plain": [
       "<Figure size 432x288 with 1 Axes>"
      ]
     },
     "metadata": {
      "needs_background": "light"
     },
     "output_type": "display_data"
    }
   ],
   "source": [
    "def f1(x):\n",
    "    return np.sin(np.sqrt(x))/x\n",
    "\n",
    "def f2(x):\n",
    "    return f1(x)-np.sqrt(1/x)\n",
    "\n",
    "def f3(x):\n",
    "    return np.sqrt(1/x)\n",
    "\n",
    "xx=np.linspace(0, 1, 100)\n",
    "plt.plot(xx, f1(xx), label=\"function\")\n",
    "plt.legend()\n",
    "# plt.plot(xx, f2(xx))"
   ]
  },
  {
   "cell_type": "code",
   "execution_count": 177,
   "metadata": {},
   "outputs": [
    {
     "name": "stdout",
     "output_type": "stream",
     "text": [
      "(1.85042137398677, 211) попытка посчитать влоб\n",
      "(-0.10823517310390517, 9) Интеграл без сингулярности\n",
      "(1.9958173293285268, 20916) Проверка\n",
      "1.891764826896095 Итоговое значение\n"
     ]
    }
   ],
   "source": [
    "print(midpoint_rule(f1, 0, 1, 1e-4), \"попытка посчитать влоб\")\n",
    "print(midpoint_rule(f2, 0, 1, 1e-4), \"Интеграл без сингулярности\")\n",
    "print(midpoint_rule(f3, 0, 1, 1e-7), \"Проверка\")\n",
    "print(midpoint_rule(f2, 0, 1, 1e-4)[0]+2, \"Итоговое значение\")"
   ]
  },
  {
   "cell_type": "markdown",
   "metadata": {},
   "source": [
    "Вывод:\n",
    "вполне себе качественный способ посчитать интеграл, но при сингулярностях считаем руками."
   ]
  }
 ],
 "metadata": {
  "kernelspec": {
   "display_name": "Python 3",
   "language": "python",
   "name": "python3"
  },
  "language_info": {
   "codemirror_mode": {
    "name": "ipython",
    "version": 3
   },
   "file_extension": ".py",
   "mimetype": "text/x-python",
   "name": "python",
   "nbconvert_exporter": "python",
   "pygments_lexer": "ipython3",
   "version": "3.7.6"
  }
 },
 "nbformat": 4,
 "nbformat_minor": 2
}
